{
 "cells": [
  {
   "cell_type": "markdown",
   "id": "d648b73a-0393-4636-9ec6-2f7d71c87f44",
   "metadata": {},
   "source": [
    "### Start Spark context and load initial data"
   ]
  },
  {
   "cell_type": "code",
   "execution_count": 21,
   "id": "2f9cbb12-2ff5-4648-a69a-9bcdee6b4524",
   "metadata": {},
   "outputs": [],
   "source": [
    "from pyspark.sql import SparkSession\n",
    "from pyspark.sql.types import *\n",
    "from pyspark.sql.functions import col, split, explode, count, percentile_approx, dense_rank, avg\n",
    "from pyspark.sql.window import Window"
   ]
  },
  {
   "cell_type": "code",
   "execution_count": 2,
   "id": "68888dae-ed02-4998-83a0-fa91112cefb2",
   "metadata": {},
   "outputs": [],
   "source": [
    "spark_session = SparkSession.builder.appName('PerDateMetrics').getOrCreate()"
   ]
  },
  {
   "cell_type": "code",
   "execution_count": 3,
   "id": "ce5029e2-1e00-4ab8-b123-8e8e9cec3110",
   "metadata": {},
   "outputs": [],
   "source": [
    "review_raw_data_path = '../data/unziped/user_anime*.csv'\n",
    "animes_raw_data_path = '../data/unziped/anime.csv'"
   ]
  },
  {
   "cell_type": "code",
   "execution_count": 4,
   "id": "424c2da8-83a1-4a48-81be-8bb707ed0d84",
   "metadata": {},
   "outputs": [],
   "source": [
    "reviews_schema = StructType([\n",
    "    StructField('user_id', StringType(), False),\n",
    "    StructField('anime_id', StringType(), False),\n",
    "    StructField('favorite', BooleanType(), False),\n",
    "    StructField('review_id', IntegerType(), False),\n",
    "    StructField('review_date', DateType(), False),\n",
    "    StructField('review_num_useful', IntegerType(), False),\n",
    "    StructField('review_score', FloatType(), False),\n",
    "    StructField('review_story_score', FloatType(), False),\n",
    "    StructField('review_animation_score', FloatType(), False),\n",
    "    StructField('review_sound_score', FloatType(), False),\n",
    "    StructField('review_character_score', FloatType(), False),\n",
    "    StructField('review_enjoyment_score', FloatType(), False),\n",
    "    StructField('score', FloatType(), False),\n",
    "    StructField('status', StringType(), False),\n",
    "    StructField('progress', IntegerType(), False),\n",
    "    StructField('last_interaction_date', DateType(), False)\n",
    "])"
   ]
  },
  {
   "cell_type": "code",
   "execution_count": 5,
   "id": "d204c626-1e63-4603-8e25-3d0b300cec2a",
   "metadata": {},
   "outputs": [],
   "source": [
    "animes_schema = StructType([\n",
    "    StructField('anime_id', IntegerType(), True),\n",
    "    StructField('anime_url', StringType(), True),\n",
    "    StructField('title', StringType(), True),\n",
    "    StructField('synopsis', StringType(), True),\n",
    "    StructField('main_pic', StringType(), True),\n",
    "    StructField('type', StringType(), True),\n",
    "    StructField('source_type', StringType(), True),\n",
    "    StructField('num_episodes', IntegerType(), True),\n",
    "    StructField('status', StringType(), True),\n",
    "    StructField('start_date', DateType(), True),\n",
    "    StructField('end_date', DateType(), True),\n",
    "    StructField('season', StringType(), True),\n",
    "    StructField('studios', StringType(), True),\n",
    "    StructField('genres', StringType(), True),\n",
    "    StructField('score', FloatType(), True),\n",
    "    StructField('score_count', IntegerType(), True),\n",
    "    StructField('score_rank', IntegerType(), True),\n",
    "    StructField('popularity_rank', IntegerType(), True),\n",
    "    StructField('members_count', IntegerType(), True),\n",
    "    StructField('favorite_count', IntegerType(), True),\n",
    "    StructField('watching_count', IntegerType(), True),\n",
    "    StructField('completed_count', IntegerType(), True),\n",
    "    StructField('on_hold_count', IntegerType(), True),\n",
    "    StructField('dropped_count', IntegerType(), True),\n",
    "    StructField('plan_to_watch_count', IntegerType(), True),\n",
    "    StructField('total_count', IntegerType(), True),\n",
    "    StructField('score_10_count', IntegerType(), True),\n",
    "    StructField('score_09_count', IntegerType(), True),\n",
    "    StructField('score_08_count', IntegerType(), True),\n",
    "    StructField('score_07_count', IntegerType(), True),\n",
    "    StructField('score_06_count', IntegerType(), True),\n",
    "    StructField('score_05_count', IntegerType(), True),\n",
    "    StructField('score_04_count', IntegerType(), True),\n",
    "    StructField('score_03_count', IntegerType(), True),\n",
    "    StructField('score_02_count', IntegerType(), True),\n",
    "    StructField('score_01_count', StringType(), True),\n",
    "    StructField('clubs', StringType(), True),\n",
    "    StructField('pics', StringType(), True)\n",
    "])"
   ]
  },
  {
   "cell_type": "code",
   "execution_count": 6,
   "id": "d4bc3f89-043c-46e4-aa1b-19a76712fe04",
   "metadata": {},
   "outputs": [],
   "source": [
    "df_reviews = spark_session.read.options(header=True, delimiter='\\t').schema(reviews_schema).csv(review_raw_data_path)"
   ]
  },
  {
   "cell_type": "code",
   "execution_count": 7,
   "id": "22de1928-9e6b-4611-baba-228c11bb272b",
   "metadata": {},
   "outputs": [],
   "source": [
    "df_animes = spark_session.read.options(header=True, delimiter='\\t').schema(animes_schema).csv(animes_raw_data_path)"
   ]
  },
  {
   "cell_type": "markdown",
   "id": "d4012e39-8cdc-4ea1-8fbc-8c2ca93d4099",
   "metadata": {},
   "source": [
    "### Clean Anime Data"
   ]
  },
  {
   "cell_type": "code",
   "execution_count": 8,
   "id": "897e25b1-c52e-4d92-9558-bf4bcc3ac771",
   "metadata": {},
   "outputs": [
    {
     "data": {
      "text/plain": [
       "[Row(genres=['Supernatural'], studios=['J.C.Staff']),\n",
       " Row(genres=['Action', 'Adventure'], studios=None)]"
      ]
     },
     "execution_count": 8,
     "metadata": {},
     "output_type": "execute_result"
    }
   ],
   "source": [
    "df_animes = df_animes.withColumn('genres', split(col('genres'), '\\|'))\n",
    "df_animes = df_animes.withColumn('studios', split(col('studios'), '\\|'))\n",
    "df_animes.select([col('genres'), col('studios')]).take(2)"
   ]
  },
  {
   "cell_type": "code",
   "execution_count": 9,
   "id": "b5b0cf7d-eb26-42b6-bc7f-755c6623d8d6",
   "metadata": {},
   "outputs": [],
   "source": [
    "df_animes = df_animes.select([col('anime_id'), col('genres'), col('studios')])"
   ]
  },
  {
   "cell_type": "markdown",
   "id": "2f36a1b7-5c65-4d3d-b9a8-3d761ce1f399",
   "metadata": {},
   "source": [
    "### Clean reviews data"
   ]
  },
  {
   "cell_type": "code",
   "execution_count": 10,
   "id": "00b27a21-55ac-468d-bc68-b6240dce44a1",
   "metadata": {},
   "outputs": [],
   "source": [
    "df_reviews = df_reviews.select(['status', 'user_id', 'anime_id', 'review_date', 'score'])\n",
    "df_reviews = df_reviews.filter(col('review_date').isNotNull())"
   ]
  },
  {
   "cell_type": "markdown",
   "id": "dc772af5-a111-4a41-a9d8-6b033bbac3b2",
   "metadata": {},
   "source": [
    "### Join Clubs data and Anime Data"
   ]
  },
  {
   "cell_type": "code",
   "execution_count": 11,
   "id": "06c0232c-6ff1-41c3-99c3-0ecd07565f9f",
   "metadata": {},
   "outputs": [
    {
     "name": "stdout",
     "output_type": "stream",
     "text": [
      "root\n",
      " |-- status: string (nullable = true)\n",
      " |-- user_id: string (nullable = true)\n",
      " |-- anime_id: string (nullable = true)\n",
      " |-- review_date: date (nullable = true)\n",
      " |-- score: float (nullable = true)\n",
      "\n"
     ]
    }
   ],
   "source": [
    "df_reviews.printSchema()"
   ]
  },
  {
   "cell_type": "code",
   "execution_count": 12,
   "id": "c44c9568-07d1-4335-a104-90f2ba956e7f",
   "metadata": {},
   "outputs": [],
   "source": [
    "df_reviews = df_reviews.join(df_animes, on='anime_id')\n",
    "df_reviews_genres = df_reviews.withColumn('genre', explode(col('genres')))\n",
    "df_reviews_genres = df_reviews_genres.drop(col('genres'))"
   ]
  },
  {
   "cell_type": "markdown",
   "id": "ea1c4c00-c0d1-4567-8f02-7c88b34a66e3",
   "metadata": {
    "tags": []
   },
   "source": [
    "### Adding ranking per genre-> date and computing number of reviews and scores"
   ]
  },
  {
   "cell_type": "code",
   "execution_count": 13,
   "id": "055ddf3a-588a-46c8-97c5-d45143e5472d",
   "metadata": {},
   "outputs": [],
   "source": [
    "df_reviews_genres = df_reviews_genres.groupby(['genre', 'review_date']).agg(\n",
    "    count('anime_id').alias('reviews_per_date'),\n",
    "    percentile_approx(\"score\", 0.5).alias(\"median_review_score\")\n",
    ")"
   ]
  },
  {
   "cell_type": "code",
   "execution_count": 16,
   "id": "5b932e29-e631-49df-8d2b-5f3550f7c651",
   "metadata": {},
   "outputs": [
    {
     "name": "stdout",
     "output_type": "stream",
     "text": [
      "root\n",
      " |-- genre: string (nullable = true)\n",
      " |-- review_date: date (nullable = true)\n",
      " |-- reviews_per_date: long (nullable = false)\n",
      " |-- median_review_score: float (nullable = true)\n",
      "\n"
     ]
    }
   ],
   "source": [
    "df_reviews_genres.printSchema()"
   ]
  },
  {
   "cell_type": "code",
   "execution_count": 25,
   "id": "98e049dd-c40f-4a4f-a175-c0506fe52334",
   "metadata": {},
   "outputs": [],
   "source": [
    "df_reviews_genres = df_reviews_genres.withColumn('rank', dense_rank().over(Window.partitionBy(['review_date']).orderBy(col('reviews_per_date').desc())))"
   ]
  },
  {
   "cell_type": "code",
   "execution_count": 29,
   "id": "7b1e17d9-4355-4646-a658-f73bf39a94a4",
   "metadata": {},
   "outputs": [
    {
     "name": "stdout",
     "output_type": "stream",
     "text": [
      "+-------------+-----------+----------------+----+\n",
      "|        genre|review_date|reviews_per_date|rank|\n",
      "+-------------+-----------+----------------+----+\n",
      "|       Action| 2022-01-01|              28|   1|\n",
      "|       Comedy| 2022-01-01|              27|   2|\n",
      "|        Drama| 2022-01-01|              26|   3|\n",
      "|       School| 2022-01-01|              26|   3|\n",
      "|      Fantasy| 2022-01-01|              23|   4|\n",
      "| Supernatural| 2022-01-01|              22|   5|\n",
      "|Slice of Life| 2022-01-01|              17|   6|\n",
      "|      Shounen| 2022-01-01|              17|   6|\n",
      "|       Sci-Fi| 2022-01-01|              16|   7|\n",
      "|    Adventure| 2022-01-01|              13|   8|\n",
      "|      Romance| 2022-01-01|              12|   9|\n",
      "|      Mystery| 2022-01-01|              12|   9|\n",
      "|  Super Power| 2022-01-01|              11|  10|\n",
      "|     Military| 2022-01-01|               8|  11|\n",
      "|       Seinen| 2022-01-01|               8|  11|\n",
      "|        Mecha| 2022-01-01|               7|  12|\n",
      "|Psychological| 2022-01-01|               7|  12|\n",
      "|       Demons| 2022-01-01|               5|  13|\n",
      "|       Horror| 2022-01-01|               5|  13|\n",
      "|     Suspense| 2022-01-01|               4|  14|\n",
      "+-------------+-----------+----------------+----+\n",
      "only showing top 20 rows\n",
      "\n"
     ]
    }
   ],
   "source": [
    "df_reviews_genres.filter(col('review_date') >= '2022-01-01').select([col('genre'), col('review_date'), col('reviews_per_date'), col('rank')]).orderBy(['review_date', 'rank']).show()"
   ]
  },
  {
   "cell_type": "markdown",
   "id": "2bcbeeee-b11a-45df-8927-1c62c2088989",
   "metadata": {},
   "source": [
    "### Write output to parquet"
   ]
  },
  {
   "cell_type": "code",
   "execution_count": 32,
   "id": "7d0dba4f-b702-4184-97ce-ca7ad9a57021",
   "metadata": {},
   "outputs": [],
   "source": [
    "output_file = '../data/refined/genres_review_stats/'\n",
    "df_reviews_genres.write.parquet(output_file)"
   ]
  },
  {
   "cell_type": "code",
   "execution_count": null,
   "id": "66273632-c432-4e7b-b720-e5e9a0c31ef5",
   "metadata": {},
   "outputs": [],
   "source": []
  }
 ],
 "metadata": {
  "kernelspec": {
   "display_name": "Python 3 (ipykernel)",
   "language": "python",
   "name": "python3"
  },
  "language_info": {
   "codemirror_mode": {
    "name": "ipython",
    "version": 3
   },
   "file_extension": ".py",
   "mimetype": "text/x-python",
   "name": "python",
   "nbconvert_exporter": "python",
   "pygments_lexer": "ipython3",
   "version": "3.10.4"
  }
 },
 "nbformat": 4,
 "nbformat_minor": 5
}
