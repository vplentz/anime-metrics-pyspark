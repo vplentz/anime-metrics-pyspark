{
 "cells": [
  {
   "cell_type": "code",
   "execution_count": 22,
   "metadata": {},
   "outputs": [],
   "source": [
    "from pyspark.sql import SparkSession\n",
    "from pyspark.sql.types import StructType, StringType, DateType, FloatType, IntegerType, StructField, ArrayType\n",
    "from pyspark.sql.functions import col, split, explode"
   ]
  },
  {
   "cell_type": "code",
   "execution_count": 2,
   "metadata": {},
   "outputs": [],
   "source": [
    "spark = SparkSession.builder.appName('UsersExplore').getOrCreate()"
   ]
  },
  {
   "cell_type": "code",
   "execution_count": 3,
   "metadata": {},
   "outputs": [],
   "source": [
    "# user_id: The id of the user\n",
    "# user_url: The url of the user on myanimelist\n",
    "# lastonlinedate: Datetime of the last time the user logged into myanimelist.net\n",
    "# num_watching: Number of animes the user is watching\n",
    "# num_completed: Number of animes the user completed\n",
    "# numonhold: Number of animes the user has on hold\n",
    "# num_dropped: Number of animes the user has dropped\n",
    "# numplanto_watch: Number of animes the user plans to watch\n",
    "# num_days: Number of days the user has spent watching anime\n",
    "# mean_score: Mean score the user has given to animes\n",
    "# clubs: List of MAL clubs the user is member of\n",
    "users_schema = StructType([\n",
    "    StructField('user_id', StringType(), True),\n",
    "    StructField('user_url', StringType(), True),\n",
    "    StructField('last_online_date', DateType(), False),\n",
    "    StructField('num_watching', IntegerType(), False),\n",
    "    StructField('num_completed', IntegerType(), False),\n",
    "    StructField('num_on_hold', IntegerType(), False),\n",
    "    StructField('num_dropped', IntegerType(), False),\n",
    "    StructField('num_plan_to_watch', IntegerType(), False),\n",
    "    StructField('num_days', FloatType(), False),\n",
    "    StructField('mean_score', StringType(), False),\n",
    "    StructField('clubs', StringType(), False)\n",
    "])"
   ]
  },
  {
   "cell_type": "code",
   "execution_count": 4,
   "metadata": {},
   "outputs": [],
   "source": [
    "df_users = spark.read.options(header=True, delimiter='\\t').schema(users_schema).csv('../data/unziped/user.csv')"
   ]
  },
  {
   "cell_type": "code",
   "execution_count": 5,
   "metadata": {},
   "outputs": [
    {
     "name": "stdout",
     "output_type": "stream",
     "text": [
      "root\n",
      " |-- user_id: string (nullable = true)\n",
      " |-- user_url: string (nullable = true)\n",
      " |-- last_online_date: date (nullable = true)\n",
      " |-- num_watching: integer (nullable = true)\n",
      " |-- num_completed: integer (nullable = true)\n",
      " |-- num_on_hold: integer (nullable = true)\n",
      " |-- num_dropped: integer (nullable = true)\n",
      " |-- num_plan_to_watch: integer (nullable = true)\n",
      " |-- num_days: float (nullable = true)\n",
      " |-- mean_score: string (nullable = true)\n",
      " |-- clubs: string (nullable = true)\n",
      "\n"
     ]
    }
   ],
   "source": [
    "df_users.printSchema()"
   ]
  },
  {
   "cell_type": "code",
   "execution_count": 6,
   "metadata": {},
   "outputs": [
    {
     "name": "stdout",
     "output_type": "stream",
     "text": [
      "[Row(user_id='kir1yama', user_url='https://myanimelist.net/profile/Kir1yama', last_online_date=datetime.date(2021, 8, 27), num_watching=28, num_completed=606, num_on_hold=48, num_dropped=48, num_plan_to_watch=113, num_days=228.39999389648438, mean_score='6.69', clubs=None), Row(user_id='smatster', user_url='https://myanimelist.net/profile/smatster', last_online_date=datetime.date(2022, 2, 25), num_watching=46, num_completed=1188, num_on_hold=209, num_dropped=31, num_plan_to_watch=2759, num_days=212.10000610351562, mean_score='8.38', clubs='29299|70446|379|36473|907'), Row(user_id='suzuhrevv', user_url='https://myanimelist.net/profile/SuzuhRevv', last_online_date=datetime.date(2022, 2, 21), num_watching=47, num_completed=517, num_on_hold=180, num_dropped=52, num_plan_to_watch=211, num_days=216.89999389648438, mean_score='6.04', clubs=None)]\n"
     ]
    }
   ],
   "source": [
    "print(df_users.take(3))"
   ]
  },
  {
   "cell_type": "code",
   "execution_count": 20,
   "metadata": {},
   "outputs": [
    {
     "data": {
      "text/plain": [
       "[Row(clubs=None),\n",
       " Row(clubs=['29299', '70446', '379', '36473', '907']),\n",
       " Row(clubs=None)]"
      ]
     },
     "execution_count": 20,
     "metadata": {},
     "output_type": "execute_result"
    }
   ],
   "source": [
    "df_users.select(['clubs']).take(3)"
   ]
  },
  {
   "cell_type": "code",
   "execution_count": 19,
   "metadata": {},
   "outputs": [],
   "source": [
    "df_users = df_users.withColumn('clubs', split(col('clubs'), '\\|'))"
   ]
  },
  {
   "cell_type": "code",
   "execution_count": 27,
   "metadata": {},
   "outputs": [],
   "source": [
    "df_users_clubs = df_users.select('user_id', explode(col('clubs')).alias('club_id'))"
   ]
  },
  {
   "cell_type": "code",
   "execution_count": 28,
   "metadata": {},
   "outputs": [
    {
     "name": "stdout",
     "output_type": "stream",
     "text": [
      "root\n",
      " |-- user_id: string (nullable = true)\n",
      " |-- club_id: string (nullable = true)\n",
      "\n"
     ]
    }
   ],
   "source": [
    "df_users_clubs.printSchema()"
   ]
  },
  {
   "cell_type": "code",
   "execution_count": 31,
   "metadata": {},
   "outputs": [
    {
     "data": {
      "text/plain": [
       "[]"
      ]
     },
     "execution_count": 31,
     "metadata": {},
     "output_type": "execute_result"
    }
   ],
   "source": [
    "df_users_clubs.filter(col('club_id').isNull()).collect()"
   ]
  },
  {
   "cell_type": "code",
   "execution_count": 33,
   "metadata": {},
   "outputs": [],
   "source": [
    "df_users_clubs.write.parquet('../data/refined/users_clubs')"
   ]
  },
  {
   "cell_type": "code",
   "execution_count": null,
   "metadata": {},
   "outputs": [],
   "source": []
  }
 ],
 "metadata": {
  "kernelspec": {
   "display_name": "Python 3 (ipykernel)",
   "language": "python",
   "name": "python3"
  },
  "language_info": {
   "codemirror_mode": {
    "name": "ipython",
    "version": 3
   },
   "file_extension": ".py",
   "mimetype": "text/x-python",
   "name": "python",
   "nbconvert_exporter": "python",
   "pygments_lexer": "ipython3",
   "version": "3.10.4"
  }
 },
 "nbformat": 4,
 "nbformat_minor": 4
}
